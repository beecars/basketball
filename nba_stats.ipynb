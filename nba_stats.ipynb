{
 "metadata": {
  "language_info": {
   "codemirror_mode": {
    "name": "ipython",
    "version": 3
   },
   "file_extension": ".py",
   "mimetype": "text/x-python",
   "name": "python",
   "nbconvert_exporter": "python",
   "pygments_lexer": "ipython3",
   "version": "3.8.5-final"
  },
  "orig_nbformat": 2,
  "kernelspec": {
   "name": "python3",
   "display_name": "Python 3.8.5 64-bit ('nba': conda)",
   "metadata": {
    "interpreter": {
     "hash": "cde0fe4655395b83a4903ba2eae53d8c94bb860c45b8cbdbe73627221677e734"
    }
   }
  }
 },
 "nbformat": 4,
 "nbformat_minor": 2,
 "cells": [
  {
   "source": [
    "# nba stats\n",
    "### examples for pulling nba stats using the nba-api package.\n",
    "\n",
    "nba-api: https://pypi.org/project/nba-api/"
   ],
   "cell_type": "markdown",
   "metadata": {}
  },
  {
   "source": [
    "import nba_api as nba\n",
    "import pandas as pd\n",
    "import numpy as np\n",
    "import scipy as sp"
   ],
   "cell_type": "code",
   "metadata": {},
   "execution_count": 9,
   "outputs": []
  },
  {
   "source": [
    "## pull team info"
   ],
   "cell_type": "markdown",
   "metadata": {}
  },
  {
   "cell_type": "code",
   "execution_count": 33,
   "metadata": {},
   "outputs": [],
   "source": [
    "from nba_api.stats.static import teams\n",
    "okc_info = teams.find_team_by_abbreviation('okc')"
   ]
  },
  {
   "source": [
    "## pull roster\n",
    "use team ID"
   ],
   "cell_type": "markdown",
   "metadata": {}
  },
  {
   "cell_type": "code",
   "execution_count": 36,
   "metadata": {},
   "outputs": [
    {
     "output_type": "execute_result",
     "data": {
      "text/plain": [
       "[      TEAM_ID ABBREVIATION NICKNAME  YEARFOUNDED           CITY  \\\n",
       " 0  1610612760          OKC  Thunder         1967  Oklahoma City   \n",
       " \n",
       "                      ARENA ARENACAPACITY         OWNER GENERALMANAGER  \\\n",
       " 0  Chesapeake Energy Arena         19163  Clay Bennett     Sam Presti   \n",
       " \n",
       "          HEADCOACH  DLEAGUEAFFILIATION  \n",
       " 0  Mark Daigneault  Oklahoma City Blue  ,\n",
       "       TEAM_ID           CITY     NICKNAME  YEARFOUNDED  YEARACTIVETILL\n",
       " 0  1610612760  Oklahoma City      Thunder         2008            2019\n",
       " 1  1610612760        Seattle  SuperSonics         1967            2007,\n",
       "   ACCOUNTTYPE                         WEBSITE_LINK\n",
       " 0    Facebook  https://www.facebook.com/OKCThunder\n",
       " 1   Instagram     https://instagram.com/okcthunder\n",
       " 2     Twitter       https://twitter.com/okcthunder,\n",
       "    YEARAWARDED        OPPOSITETEAM\n",
       " 0         1979  Washington Bullets,\n",
       "    YEARAWARDED OPPOSITETEAM\n",
       " 0         1978         None\n",
       " 1         1979         None\n",
       " 2         1996         None\n",
       " 3         2012         None,\n",
       "     YEARAWARDED OPPOSITETEAM\n",
       " 0          1979         None\n",
       " 1          1994         None\n",
       " 2          1996         None\n",
       " 3          1997         None\n",
       " 4          1998         None\n",
       " 5          2005         None\n",
       " 6          2011         None\n",
       " 7          2012         None\n",
       " 8          2013         None\n",
       " 9          2014         None\n",
       " 10         2016         None,\n",
       "    PLAYERID                PLAYER POSITION JERSEY SEASONSWITHTEAM  YEAR\n",
       " 0       951             Ray Allen        G   None       2002-2007  2018\n",
       " 1     76981       Spencer Haywood        F   None       1971-1975  2015\n",
       " 2        36  Sarunas Marciulionis        G   None            1995  2014\n",
       " 3     77141        Dennis Johnson        G   None       1977-1980  2010\n",
       " 4       121         Patrick Ewing        C   None            2001  2008\n",
       " 5     78326        David Thompson        G   None       1983-1984  1996\n",
       " 6     78530         Lenny Wilkens        G   None       1969-1972  1989,\n",
       "    PLAYERID           PLAYER     POSITION JERSEY       SEASONSWITHTEAM  YEAR\n",
       " 0    2555.0    Nick Collison          F-C      4             2004-2018  2019\n",
       " 1   76981.0  Spencer Haywood            F     24             1972-1975  2007\n",
       " 2   78549.0     Gus Williams            G      1             1978-1984  2004\n",
       " 3     203.0    Nate McMillan            G     10             1987-1998  1999\n",
       " 4       NaN    Bob Blackburn  Broadcaster                    1968-1992  1993\n",
       " 5   78149.0       Jack Sikma            C     43             1978-1986  1992\n",
       " 6   76272.0       Fred Brown            G     32             1972-1984  1986\n",
       " 7   78530.0    Lenny Wilkens    G - Coach     19  1969-1972, 1978-1985  1979]"
      ]
     },
     "metadata": {},
     "execution_count": 36
    }
   ],
   "source": [
    "from nba_api.stats.endpoints import teamgamelog\n",
    "team_info = teamgamelog.TeamGameLog(okc_info['id']).get_data_frames()\n",
    "team_info"
   ]
  },
  {
   "cell_type": "code",
   "execution_count": null,
   "metadata": {},
   "outputs": [],
   "source": []
  }
 ]
}