{
 "metadata": {
  "language_info": {
   "codemirror_mode": {
    "name": "ipython",
    "version": 3
   },
   "file_extension": ".py",
   "mimetype": "text/x-python",
   "name": "python",
   "nbconvert_exporter": "python",
   "pygments_lexer": "ipython3",
   "version": "3.8.5-final"
  },
  "orig_nbformat": 2,
  "kernelspec": {
   "name": "python3",
   "display_name": "Python 3.8.5 64-bit ('nba': conda)",
   "metadata": {
    "interpreter": {
     "hash": "cde0fe4655395b83a4903ba2eae53d8c94bb860c45b8cbdbe73627221677e734"
    }
   }
  }
 },
 "nbformat": 4,
 "nbformat_minor": 2,
 "cells": [
  {
   "source": [
    "# nba stats\n",
    "### examples for pulling nba stats using the nba-api package.\n",
    "\n",
    "nba-api: https://pypi.org/project/nba-api/"
   ],
   "cell_type": "markdown",
   "metadata": {}
  },
  {
   "source": [
    "import nba_api as nba\n",
    "import pandas as pd\n",
    "import numpy as np\n",
    "import scipy as sp"
   ],
   "cell_type": "code",
   "metadata": {},
   "execution_count": null,
   "outputs": []
  },
  {
   "source": [
    "## pull team info"
   ],
   "cell_type": "markdown",
   "metadata": {}
  },
  {
   "cell_type": "code",
   "execution_count": null,
   "metadata": {},
   "outputs": [],
   "source": [
    "from nba_api.stats.static import teams\n",
    "team_info = teams.find_team_by_abbreviation('okc')\n",
    "team_info"
   ]
  },
  {
   "source": [
    "## pull roster\n",
    "use team ID"
   ],
   "cell_type": "markdown",
   "metadata": {}
  },
  {
   "cell_type": "code",
   "execution_count": null,
   "metadata": {},
   "outputs": [],
   "source": [
    "team_id = okc_info['id']\n",
    "from nba_api.stats.endpoints import commonteamroster\n",
    "team_roster = commonteamroster.CommonTeamRoster(team_id = team_id).get_data_frames()\n",
    "team_roster = team_roster[0][['PLAYER', 'PLAYER_ID']]\n",
    "team_roster"
   ]
  },
  {
   "source": [
    "## pull active player stats\n",
    "below method only works for current season"
   ],
   "cell_type": "markdown",
   "metadata": {}
  },
  {
   "cell_type": "code",
   "execution_count": null,
   "metadata": {},
   "outputs": [],
   "source": [
    "from nba_api.stats.endpoints import leaguedashplayerstats\n",
    "all_player_stats = leaguedashplayerstats.LeagueDashPlayerStats().get_data_frames()[0]\n",
    "all_player_stats"
   ]
  },
  {
   "source": [
    "## player game logs"
   ],
   "cell_type": "markdown",
   "metadata": {}
  },
  {
   "cell_type": "code",
   "execution_count": null,
   "metadata": {},
   "outputs": [],
   "source": [
    "from nba_api.stats.endpoints import playergamelog\n",
    "game_log = playergamelog.PlayerGameLog(player_id = 1628983, season = 2020).get_data_frames()\n",
    "game_log"
   ]
  },
  {
   "cell_type": "code",
   "execution_count": null,
   "metadata": {},
   "outputs": [],
   "source": []
  }
 ]
}