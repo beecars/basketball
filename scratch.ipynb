{
 "metadata": {
  "language_info": {
   "codemirror_mode": {
    "name": "ipython",
    "version": 3
   },
   "file_extension": ".py",
   "mimetype": "text/x-python",
   "name": "python",
   "nbconvert_exporter": "python",
   "pygments_lexer": "ipython3",
   "version": "3.8.5-final"
  },
  "orig_nbformat": 2,
  "kernelspec": {
   "name": "python3",
   "display_name": "Python 3.8.5 64-bit ('nba': conda)",
   "metadata": {
    "interpreter": {
     "hash": "cde0fe4655395b83a4903ba2eae53d8c94bb860c45b8cbdbe73627221677e734"
    }
   }
  }
 },
 "nbformat": 4,
 "nbformat_minor": 2,
 "cells": [
  {
   "cell_type": "code",
   "execution_count": 20,
   "metadata": {},
   "outputs": [
    {
     "output_type": "stream",
     "name": "stdout",
     "text": [
      "player id: 1628983 stats found\n",
      "player id: 201588 stats found\n",
      "player id: 1629652 stats found\n",
      "player id: 1628977 stats found\n",
      "player id: 1629647 stats found\n",
      "player id: 2772 stats found\n",
      "player id: 1629650 stats found\n",
      "player id: 1630177 stats found\n",
      "player id: 203121 stats found\n",
      "player id: 1630221 stats found\n",
      "player id: 1629660 stats found\n",
      "player id: 1630197 stats found\n",
      "player id: 1629676 stats found\n",
      "player id: 203488 stats found\n",
      "player id: 1629026 stats found\n",
      "player id: 201143 stats found\n",
      "player id: 1628382 stats found\n"
     ]
    }
   ],
   "source": [
    "import nba_api\n",
    "import pandas as pd\n",
    "import numpy as np\n",
    "import scipy as sp\n",
    "import time\n",
    "import random\n",
    "\n",
    "from nba_api.stats.static import teams\n",
    "from nba_api.stats.endpoints import commonteamroster, playergamelog\n",
    "\n",
    "nba_cooldown = random.gammavariate(alpha=9, beta=0.4)\n",
    "\n",
    "abbreviation = 'okc'\n",
    "\n",
    "team_info = teams.find_team_by_abbreviation(abbreviation)\n",
    "team_id = team_info['id']\n",
    "\n",
    "team_roster = commonteamroster.CommonTeamRoster(team_id = team_id).get_data_frames()\n",
    "time.sleep(nba_cooldown)\n",
    "team_roster = team_roster[0][['PLAYER', 'PLAYER_ID']]\n",
    "\n",
    "team_player_box_scores = {}\n",
    "\n",
    "for index, row in team_roster.iterrows():\n",
    "    player_id = row['PLAYER_ID']\n",
    "    player_box_scores = playergamelog.PlayerGameLog(player_id = player_id, season = 2019).get_data_frames()[0]\n",
    "    time.sleep(nba_cooldown)\n",
    "    team_player_box_scores[row['PLAYER_ID']] = player_box_scores\n",
    "    "
   ]
  },
  {
   "cell_type": "code",
   "execution_count": 18,
   "metadata": {},
   "outputs": [
    {
     "output_type": "execute_result",
     "data": {
      "text/plain": [
       "  SEASON_ID  Player_ID     Game_ID     GAME_DATE      MATCHUP WL  MIN  FGM  \\\n",
       "0     22020    1628983  0022000052  DEC 29, 2020  OKC vs. ORL  L   33    8   \n",
       "1     22020    1628983  0022000043  DEC 28, 2020  OKC vs. UTA  L   36    9   \n",
       "2     22020    1628983  0022000022  DEC 26, 2020    OKC @ CHA  W   34    8   \n",
       "\n",
       "   FGA  FG_PCT  ...  DREB  REB  AST  STL  BLK  TOV  PF  PTS  PLUS_MINUS  \\\n",
       "0   10   0.800  ...     7    7    7    0    0    5   1   23          -8   \n",
       "1   21   0.429  ...     3    3    7    1    1    4   3   23           5   \n",
       "2   20   0.400  ...     5    7    9    0    1    5   4   24          14   \n",
       "\n",
       "   VIDEO_AVAILABLE  \n",
       "0                1  \n",
       "1                1  \n",
       "2                1  \n",
       "\n",
       "[3 rows x 27 columns]"
      ],
      "text/html": "<div>\n<style scoped>\n    .dataframe tbody tr th:only-of-type {\n        vertical-align: middle;\n    }\n\n    .dataframe tbody tr th {\n        vertical-align: top;\n    }\n\n    .dataframe thead th {\n        text-align: right;\n    }\n</style>\n<table border=\"1\" class=\"dataframe\">\n  <thead>\n    <tr style=\"text-align: right;\">\n      <th></th>\n      <th>SEASON_ID</th>\n      <th>Player_ID</th>\n      <th>Game_ID</th>\n      <th>GAME_DATE</th>\n      <th>MATCHUP</th>\n      <th>WL</th>\n      <th>MIN</th>\n      <th>FGM</th>\n      <th>FGA</th>\n      <th>FG_PCT</th>\n      <th>...</th>\n      <th>DREB</th>\n      <th>REB</th>\n      <th>AST</th>\n      <th>STL</th>\n      <th>BLK</th>\n      <th>TOV</th>\n      <th>PF</th>\n      <th>PTS</th>\n      <th>PLUS_MINUS</th>\n      <th>VIDEO_AVAILABLE</th>\n    </tr>\n  </thead>\n  <tbody>\n    <tr>\n      <th>0</th>\n      <td>22020</td>\n      <td>1628983</td>\n      <td>0022000052</td>\n      <td>DEC 29, 2020</td>\n      <td>OKC vs. ORL</td>\n      <td>L</td>\n      <td>33</td>\n      <td>8</td>\n      <td>10</td>\n      <td>0.800</td>\n      <td>...</td>\n      <td>7</td>\n      <td>7</td>\n      <td>7</td>\n      <td>0</td>\n      <td>0</td>\n      <td>5</td>\n      <td>1</td>\n      <td>23</td>\n      <td>-8</td>\n      <td>1</td>\n    </tr>\n    <tr>\n      <th>1</th>\n      <td>22020</td>\n      <td>1628983</td>\n      <td>0022000043</td>\n      <td>DEC 28, 2020</td>\n      <td>OKC vs. UTA</td>\n      <td>L</td>\n      <td>36</td>\n      <td>9</td>\n      <td>21</td>\n      <td>0.429</td>\n      <td>...</td>\n      <td>3</td>\n      <td>3</td>\n      <td>7</td>\n      <td>1</td>\n      <td>1</td>\n      <td>4</td>\n      <td>3</td>\n      <td>23</td>\n      <td>5</td>\n      <td>1</td>\n    </tr>\n    <tr>\n      <th>2</th>\n      <td>22020</td>\n      <td>1628983</td>\n      <td>0022000022</td>\n      <td>DEC 26, 2020</td>\n      <td>OKC @ CHA</td>\n      <td>W</td>\n      <td>34</td>\n      <td>8</td>\n      <td>20</td>\n      <td>0.400</td>\n      <td>...</td>\n      <td>5</td>\n      <td>7</td>\n      <td>9</td>\n      <td>0</td>\n      <td>1</td>\n      <td>5</td>\n      <td>4</td>\n      <td>24</td>\n      <td>14</td>\n      <td>1</td>\n    </tr>\n  </tbody>\n</table>\n<p>3 rows × 27 columns</p>\n</div>"
     },
     "metadata": {},
     "execution_count": 18
    }
   ],
   "source": [
    "team_player_box_scores[1628983]"
   ]
  },
  {
   "cell_type": "code",
   "execution_count": null,
   "metadata": {},
   "outputs": [],
   "source": []
  }
 ]
}